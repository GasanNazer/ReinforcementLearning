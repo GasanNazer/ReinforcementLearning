{
 "cells": [
  {
   "cell_type": "code",
   "execution_count": 3,
   "id": "03cab62b",
   "metadata": {},
   "outputs": [],
   "source": [
    "#!pip install stable-baselines\n",
    "#Download and install ROMs\n",
    "#!gdown -q http://www.atarimania.com/roms/Roms.rar\n",
    "#!pip install -q unrar\n",
    "#!mkdir ./roms_atari\n",
    "#!unrar x Roms.rar ./roms_atari > /dev/null 2>&1\n",
    "#!python -m atari_py.import_roms ./roms_atari > /dev/null 2>&1"
   ]
  },
  {
   "cell_type": "code",
   "execution_count": 2,
   "id": "e46855b1",
   "metadata": {},
   "outputs": [],
   "source": [
    "from stable_baselines.common.atari_wrappers import make_atari, wrap_deepmind\n",
    "import numpy as np\n",
    "import tensorflow as tf\n",
    "from tensorflow import keras\n",
    "from tensorflow.keras import layers\n",
    "import matplotlib.pyplot as plt\n",
    "#from google.colab import drive\n",
    "import gym.wrappers"
   ]
  },
  {
   "cell_type": "code",
   "execution_count": 3,
   "id": "d3df1447",
   "metadata": {},
   "outputs": [
    {
     "name": "stdout",
     "output_type": "stream",
     "text": [
      "(210, 160, 3)\n"
     ]
    },
    {
     "name": "stderr",
     "output_type": "stream",
     "text": [
      "A.L.E: Arcade Learning Environment (version 0.7.5+db37282)\n",
      "[Powered by Stella]\n"
     ]
    },
    {
     "data": {
      "text/plain": [
       "<matplotlib.image.AxesImage at 0x2b7829880>"
      ]
     },
     "execution_count": 3,
     "metadata": {},
     "output_type": "execute_result"
    },
    {
     "data": {
      "image/png": "[encoded data removed]",
      "text/plain": [
       "<Figure size 432x288 with 1 Axes>"
      ]
     },
     "metadata": {
      "needs_background": "light"
     },
     "output_type": "display_data"
    }
   ],
   "source": [
    "env = gym.make(\"BreakoutNoFrameskip-v4\") #make_atari\n",
    "obs = np.array(env.reset())\n",
    "print(obs.shape)\n",
    "plt.title(\"what the raw input looks like\")\n",
    "plt.imshow(obs)"
   ]
  },
  {
   "cell_type": "code",
   "execution_count": 4,
   "id": "4a1eda70",
   "metadata": {},
   "outputs": [
    {
     "name": "stdout",
     "output_type": "stream",
     "text": [
      "(84, 84, 4)\n"
     ]
    },
    {
     "data": {
      "text/plain": [
       "<matplotlib.image.AxesImage at 0x2b65e77f0>"
      ]
     },
     "execution_count": 4,
     "metadata": {},
     "output_type": "execute_result"
    },
    {
     "data": {
      "image/png": "[encoded data removed]",
      "text/plain": [
       "<Figure size 432x288 with 1 Axes>"
      ]
     },
     "metadata": {
      "needs_background": "light"
     },
     "output_type": "display_data"
    }
   ],
   "source": [
    "# Obseravtions (wrapped)\n",
    "env = gym.make(\"BreakoutNoFrameskip-v4\") #make_atari(\"BreakoutNoFrameskip-v4\")\n",
    "env = wrap_deepmind(env, frame_stack=True, scale=True)\n",
    "obs = np.array(env.reset())\n",
    "\n",
    "print(obs.shape)\n",
    "plt.title(\"agent observation (4 frames)\")\n",
    "plt.imshow(obs.transpose([0, 2, 1]).reshape([env.observation_space.shape[0], -1]))"
   ]
  },
  {
   "cell_type": "code",
   "execution_count": 5,
   "id": "07cd6998",
   "metadata": {},
   "outputs": [
    {
     "name": "stdout",
     "output_type": "stream",
     "text": [
      "Discrete(4)\n",
      "['NOOP', 'FIRE', 'RIGHT', 'LEFT']\n"
     ]
    }
   ],
   "source": [
    "# Actions\n",
    "print(env.action_space)\n",
    "print(env.get_action_meanings())"
   ]
  },
  {
   "cell_type": "code",
   "execution_count": 6,
   "id": "d1c8feb7",
   "metadata": {},
   "outputs": [
    {
     "data": {
      "text/plain": [
       "[<matplotlib.lines.Line2D at 0x2b812b2b0>]"
      ]
     },
     "execution_count": 6,
     "metadata": {},
     "output_type": "execute_result"
    },
    {
     "data": {
      "image/png": "[encoded data removed]",
      "text/plain": [
       "<Figure size 432x288 with 1 Axes>"
      ]
     },
     "metadata": {
      "needs_background": "light"
     },
     "output_type": "display_data"
    }
   ],
   "source": [
    "# Rewards\n",
    "env.reset()\n",
    "rewards = []\n",
    "while True:\n",
    "    obs, rew, done, info = env.step(env.action_space.sample())\n",
    "    rewards.append(rew)\n",
    "    if done:\n",
    "        break\n",
    "plt.plot(rewards)"
   ]
  },
  {
   "cell_type": "code",
   "execution_count": 7,
   "id": "2d3e53ac",
   "metadata": {},
   "outputs": [
    {
     "name": "stdout",
     "output_type": "stream",
     "text": [
      "Metal device set to: Apple M1 Max\n",
      "Model: \"model\"\n",
      "_________________________________________________________________\n",
      "Layer (type)                 Output Shape              Param #   \n",
      "=================================================================\n",
      "input_1 (InputLayer)         [(None, 84, 84, 4)]       0         \n",
      "_________________________________________________________________\n",
      "conv2d (Conv2D)              (None, 20, 20, 16)        4112      \n",
      "_________________________________________________________________\n",
      "conv2d_1 (Conv2D)            (None, 9, 9, 32)          8224      \n",
      "_________________________________________________________________\n",
      "flatten (Flatten)            (None, 2592)              0         \n",
      "_________________________________________________________________\n",
      "dense (Dense)                (None, 256)               663808    \n",
      "_________________________________________________________________\n",
      "dense_1 (Dense)              (None, 4)                 1028      \n",
      "=================================================================\n",
      "Total params: 677,172\n",
      "Trainable params: 677,172\n",
      "Non-trainable params: 0\n",
      "_________________________________________________________________\n"
     ]
    },
    {
     "name": "stderr",
     "output_type": "stream",
     "text": [
      "2022-06-17 13:16:01.510090: I tensorflow/core/common_runtime/pluggable_device/pluggable_device_factory.cc:305] Could not identify NUMA node of platform GPU ID 0, defaulting to 0. Your kernel may not have been built with NUMA support.\n",
      "2022-06-17 13:16:01.510296: I tensorflow/core/common_runtime/pluggable_device/pluggable_device_factory.cc:271] Created TensorFlow device (/job:localhost/replica:0/task:0/device:GPU:0 with 0 MB memory) -> physical PluggableDevice (device: 0, name: METAL, pci bus id: <undefined>)\n"
     ]
    }
   ],
   "source": [
    "num_actions = 4\n",
    "def create_q_model():\n",
    "    # Network defined by the Deepmind paper\n",
    "    inputs = layers.Input(shape=(84, 84, 4,))\n",
    "\n",
    "    layer1 = layers.Conv2D(16, 8, strides=4, activation=\"relu\")(inputs)\n",
    "    layer2 = layers.Conv2D(32, 4, strides=2, activation=\"relu\")(layer1)\n",
    "    #layer3 = layers.Conv2D(64, 3, strides=1, activation=\"relu\")(layer2)\n",
    "    layer3 = layers.Flatten()(layer2)\n",
    "    layer4 = layers.Dense(256, activation=\"relu\")(layer3)\n",
    "    action = layers.Dense(num_actions, activation=\"linear\")(layer4)\n",
    "\n",
    "    return keras.Model(inputs=inputs, outputs=action)\n",
    "\n",
    "# The first model makes the predictions for Q-values which are used to make a action.\n",
    "model = create_q_model()\n",
    "# Target model\n",
    "model_target = create_q_model()\n",
    "model.summary()"
   ]
  },
  {
   "cell_type": "code",
   "execution_count": 8,
   "id": "af88ee1b",
   "metadata": {},
   "outputs": [],
   "source": [
    "gamma = 0.99  # Discount factor for past rewards\n",
    "\n",
    "# Setting epsilon decay parameters\n",
    "epsilon = 1.0  \n",
    "epsilon_max_1 = 1.0 \n",
    "epsilon_min_1 = 0.2  \n",
    "epsilon_max_2 = epsilon_min_1  \n",
    "epsilon_min_2 = 0.1\n",
    "epsilon_max_3 = epsilon_min_2  \n",
    "epsilon_min_3 = 0.02\n",
    "\n",
    "epsilon_interval_1 = (epsilon_max_1 - epsilon_min_1)  \n",
    "epsilon_interval_2 = (epsilon_max_2 - epsilon_min_2)  \n",
    "epsilon_interval_3 = (epsilon_max_3 - epsilon_min_3)  \n",
    "\n",
    "# Number of frames for exploration\n",
    "epsilon_greedy_frames = 1000000.0\n",
    "\n",
    "# Number of frames to take random action and observe output\n",
    "epsilon_random_frames = 50000\n",
    "\n",
    "# Maximum Replay Buffer volume\n",
    "max_memory_length = 190000\n",
    "\n",
    "# Size of batch taken from replay buffer\n",
    "batch_size = 32  \n",
    "max_steps_per_episode = 10000\n",
    "\n",
    "# Train the model after 20 actions\n",
    "update_after_actions = 20\n",
    "\n",
    "# How often to update the target network\n",
    "update_target_network = 10000\n",
    "\n",
    "# In the Deepmind paper they use RMSProp however then Adam optimizer improves training time\n",
    "optimizer = keras.optimizers.Adam(learning_rate=0.00025, clipnorm=1.0)\n",
    "\n",
    "# Using huber loss for stability\n",
    "loss_function = keras.losses.Huber()"
   ]
  },
  {
   "cell_type": "code",
   "execution_count": 10,
   "id": "c9bdb35d",
   "metadata": {},
   "outputs": [],
   "source": [
    "# Saving the model\n",
    "#model_name = 'breakout_model_1'\n",
    "#path = F\"/content/gdrive/MyDrive/models/{model_name}\" \n",
    "#model.save(path)\n",
    "\n",
    "# Loading the model\n",
    "# model = tf.keras.models.load_model(path)\n",
    "def save_model(episode):\n",
    "    model_name = f'breakout_beta_progress_episodes_{episode}.44'\n",
    "    path = f\"./{model_name}\"\n",
    "    model.save(path)"
   ]
  },
  {
   "cell_type": "code",
   "execution_count": null,
   "id": "fcba66d4",
   "metadata": {},
   "outputs": [
    {
     "name": "stderr",
     "output_type": "stream",
     "text": [
      "2022-06-17 13:17:14.125648: I tensorflow/compiler/mlir/mlir_graph_optimization_pass.cc:176] None of the MLIR Optimization Passes are enabled (registered 2)\n",
      "2022-06-17 13:17:14.125881: W tensorflow/core/platform/profile_utils/cpu_utils.cc:128] Failed to get CPU frequency: 0 Hz\n",
      "2022-06-17 13:17:14.177784: I tensorflow/core/grappler/optimizers/custom_graph_optimizer_registry.cc:112] Plugin optimizer for device_type GPU is enabled.\n"
     ]
    },
    {
     "name": "stdout",
     "output_type": "stream",
     "text": [
      "running reward: 0.10 at episode 90, frame count 10000, epsilon 0.992, loss 0.01734\n",
      "running reward: 0.05 at episode 186, frame count 20000, epsilon 0.984, loss 0.01653\n",
      "running reward: 0.02 at episode 288, frame count 30000, epsilon 0.976, loss 0.03171\n",
      "running reward: 0.07 at episode 382, frame count 40000, epsilon 0.968, loss 0.00013\n",
      "running reward: 0.17 at episode 460, frame count 50000, epsilon 0.960, loss 0.00016\n",
      "running reward: 0.12 at episode 545, frame count 60000, epsilon 0.952, loss 0.00019\n",
      "running reward: 0.16 at episode 633, frame count 70000, epsilon 0.944, loss 0.00033\n",
      "running reward: 0.13 at episode 719, frame count 80000, epsilon 0.936, loss 0.00030\n",
      "running reward: 0.12 at episode 807, frame count 90000, epsilon 0.928, loss 0.00017\n",
      "running reward: 0.05 at episode 904, frame count 100000, epsilon 0.920, loss 0.00007\n",
      "running reward: 0.06 at episode 997, frame count 110000, epsilon 0.912, loss 0.00019\n",
      "running reward: 0.13 at episode 1082, frame count 120000, epsilon 0.904, loss 0.00030\n",
      "running reward: 0.06 at episode 1178, frame count 130000, epsilon 0.896, loss 0.00017\n",
      "running reward: 0.04 at episode 1276, frame count 140000, epsilon 0.888, loss 0.00011\n",
      "running reward: 0.08 at episode 1368, frame count 150000, epsilon 0.880, loss 0.00874\n",
      "running reward: 0.07 at episode 1462, frame count 160000, epsilon 0.872, loss 0.00018\n",
      "running reward: 0.06 at episode 1558, frame count 170000, epsilon 0.864, loss 0.00018\n",
      "running reward: 0.14 at episode 1646, frame count 180000, epsilon 0.856, loss 0.00009\n",
      "running reward: 0.10 at episode 1738, frame count 190000, epsilon 0.848, loss 0.00043\n",
      "running reward: 0.19 at episode 1815, frame count 200000, epsilon 0.840, loss 0.00012\n",
      "running reward: 0.18 at episode 1900, frame count 210000, epsilon 0.832, loss 0.00730\n",
      "running reward: 0.12 at episode 1992, frame count 220000, epsilon 0.824, loss 0.00009\n",
      "running reward: 0.03 at episode 2092, frame count 230000, epsilon 0.816, loss 0.00661\n",
      "running reward: 0.13 at episode 2177, frame count 240000, epsilon 0.808, loss 0.00020\n",
      "running reward: 0.08 at episode 2272, frame count 250000, epsilon 0.800, loss 0.00523\n",
      "running reward: 0.18 at episode 2349, frame count 260000, epsilon 0.792, loss 0.00018\n",
      "running reward: 0.15 at episode 2437, frame count 270000, epsilon 0.784, loss 0.00016\n",
      "running reward: 0.07 at episode 2531, frame count 280000, epsilon 0.776, loss 0.00039\n",
      "running reward: 0.10 at episode 2622, frame count 290000, epsilon 0.768, loss 0.01156\n",
      "running reward: 0.15 at episode 2709, frame count 300000, epsilon 0.760, loss 0.00371\n",
      "running reward: 0.06 at episode 2803, frame count 310000, epsilon 0.752, loss 0.00020\n",
      "running reward: 0.12 at episode 2887, frame count 320000, epsilon 0.744, loss 0.00013\n",
      "running reward: 0.11 at episode 2978, frame count 330000, epsilon 0.736, loss 0.00599\n",
      "running reward: 0.08 at episode 3074, frame count 340000, epsilon 0.728, loss 0.00006\n",
      "running reward: 0.15 at episode 3159, frame count 350000, epsilon 0.720, loss 0.00341\n",
      "running reward: 0.06 at episode 3257, frame count 360000, epsilon 0.712, loss 0.00055\n",
      "running reward: 0.14 at episode 3341, frame count 370000, epsilon 0.704, loss 0.00022\n",
      "running reward: 0.19 at episode 3420, frame count 380000, epsilon 0.696, loss 0.00897\n",
      "running reward: 0.17 at episode 3506, frame count 390000, epsilon 0.688, loss 0.00028\n",
      "running reward: 0.15 at episode 3590, frame count 400000, epsilon 0.680, loss 0.00015\n",
      "running reward: 0.25 at episode 3671, frame count 410000, epsilon 0.672, loss 0.00012\n",
      "running reward: 0.17 at episode 3757, frame count 420000, epsilon 0.664, loss 0.00012\n",
      "running reward: 0.03 at episode 3857, frame count 430000, epsilon 0.656, loss 0.00043\n",
      "running reward: 0.18 at episode 3938, frame count 440000, epsilon 0.648, loss 0.00053\n",
      "running reward: 0.13 at episode 4024, frame count 450000, epsilon 0.640, loss 0.00060\n",
      "running reward: 0.13 at episode 4110, frame count 460000, epsilon 0.632, loss 0.00015\n",
      "running reward: 0.20 at episode 4192, frame count 470000, epsilon 0.624, loss 0.00021\n",
      "running reward: 0.15 at episode 4281, frame count 480000, epsilon 0.616, loss 0.00018\n",
      "running reward: 0.19 at episode 4370, frame count 490000, epsilon 0.608, loss 0.00013\n",
      "running reward: 0.11 at episode 4463, frame count 500000, epsilon 0.600, loss 0.00050\n",
      "running reward: 0.17 at episode 4547, frame count 510000, epsilon 0.592, loss 0.00027\n",
      "running reward: 0.21 at episode 4627, frame count 520000, epsilon 0.584, loss 0.00018\n",
      "running reward: 0.16 at episode 4714, frame count 530000, epsilon 0.576, loss 0.01332\n",
      "running reward: 0.13 at episode 4801, frame count 540000, epsilon 0.568, loss 0.00062\n",
      "running reward: 0.12 at episode 4888, frame count 550000, epsilon 0.560, loss 0.00026\n",
      "running reward: 0.18 at episode 4968, frame count 560000, epsilon 0.552, loss 0.00034\n",
      "WARNING:tensorflow:Compiled the loaded model, but the compiled metrics have yet to be built. `model.compile_metrics` will be empty until you train or evaluate the model.\n",
      "INFO:tensorflow:Assets written to: ./breakout_beta_progress_episodes_5000.44/assets\n"
     ]
    },
    {
     "name": "stderr",
     "output_type": "stream",
     "text": [
      "2022-06-17 13:51:04.754545: W tensorflow/python/util/util.cc:348] Sets are not currently considered sequences, but this may change in the future, so consider avoiding using them.\n"
     ]
    },
    {
     "name": "stdout",
     "output_type": "stream",
     "text": [
      "running reward: 0.25 at episode 5045, frame count 570000, epsilon 0.544, loss 0.00024\n",
      "running reward: 0.32 at episode 5113, frame count 580000, epsilon 0.536, loss 0.00011\n",
      "running reward: 0.32 at episode 5192, frame count 590000, epsilon 0.528, loss 0.00223\n",
      "running reward: 0.19 at episode 5272, frame count 600000, epsilon 0.520, loss 0.00025\n",
      "running reward: 0.23 at episode 5354, frame count 610000, epsilon 0.512, loss 0.00016\n",
      "running reward: 0.11 at episode 5442, frame count 620000, epsilon 0.504, loss 0.00160\n",
      "running reward: 0.13 at episode 5527, frame count 630000, epsilon 0.496, loss 0.00028\n",
      "running reward: 0.26 at episode 5605, frame count 640000, epsilon 0.488, loss 0.00050\n",
      "running reward: 0.27 at episode 5685, frame count 650000, epsilon 0.480, loss 0.00183\n",
      "running reward: 0.11 at episode 5777, frame count 660000, epsilon 0.472, loss 0.00031\n",
      "running reward: 0.16 at episode 5857, frame count 670000, epsilon 0.464, loss 0.00040\n",
      "running reward: 0.18 at episode 5937, frame count 680000, epsilon 0.456, loss 0.00052\n",
      "running reward: 0.31 at episode 6010, frame count 690000, epsilon 0.448, loss 0.00314\n",
      "running reward: 0.19 at episode 6096, frame count 700000, epsilon 0.440, loss 0.00265\n",
      "running reward: 0.27 at episode 6170, frame count 710000, epsilon 0.432, loss 0.00075\n",
      "running reward: 0.38 at episode 6232, frame count 720000, epsilon 0.424, loss 0.00016\n",
      "running reward: 0.37 at episode 6302, frame count 730000, epsilon 0.416, loss 0.00162\n",
      "running reward: 0.38 at episode 6366, frame count 740000, epsilon 0.408, loss 0.00327\n",
      "running reward: 0.22 at episode 6452, frame count 750000, epsilon 0.400, loss 0.00039\n",
      "running reward: 0.25 at episode 6530, frame count 760000, epsilon 0.392, loss 0.00046\n",
      "running reward: 0.28 at episode 6605, frame count 770000, epsilon 0.384, loss 0.00037\n",
      "running reward: 0.24 at episode 6684, frame count 780000, epsilon 0.376, loss 0.00307\n",
      "running reward: 0.29 at episode 6757, frame count 790000, epsilon 0.368, loss 0.00074\n",
      "running reward: 0.29 at episode 6828, frame count 800000, epsilon 0.360, loss 0.00036\n",
      "running reward: 0.30 at episode 6905, frame count 810000, epsilon 0.352, loss 0.00045\n",
      "running reward: 0.22 at episode 6986, frame count 820000, epsilon 0.344, loss 0.00161\n",
      "running reward: 0.24 at episode 7061, frame count 830000, epsilon 0.336, loss 0.00106\n",
      "running reward: 0.34 at episode 7131, frame count 840000, epsilon 0.328, loss 0.00197\n",
      "running reward: 0.38 at episode 7196, frame count 850000, epsilon 0.320, loss 0.00414\n",
      "running reward: 0.28 at episode 7272, frame count 860000, epsilon 0.312, loss 0.00418\n",
      "running reward: 0.15 at episode 7357, frame count 870000, epsilon 0.304, loss 0.00138\n",
      "running reward: 0.36 at episode 7423, frame count 880000, epsilon 0.296, loss 0.00024\n",
      "running reward: 0.46 at episode 7490, frame count 890000, epsilon 0.288, loss 0.00087\n",
      "running reward: 0.38 at episode 7555, frame count 900000, epsilon 0.280, loss 0.00640\n",
      "running reward: 0.44 at episode 7616, frame count 910000, epsilon 0.272, loss 0.00033\n",
      "running reward: 0.45 at episode 7682, frame count 920000, epsilon 0.264, loss 0.00325\n",
      "running reward: 0.44 at episode 7747, frame count 930000, epsilon 0.256, loss 0.00158\n",
      "running reward: 0.49 at episode 7805, frame count 940000, epsilon 0.248, loss 0.00105\n",
      "running reward: 0.58 at episode 7863, frame count 950000, epsilon 0.240, loss 0.00060\n",
      "running reward: 0.32 at episode 7936, frame count 960000, epsilon 0.232, loss 0.00054\n",
      "running reward: 0.48 at episode 7995, frame count 970000, epsilon 0.224, loss 0.00096\n",
      "running reward: 0.64 at episode 8046, frame count 980000, epsilon 0.216, loss 0.00062\n",
      "running reward: 0.60 at episode 8107, frame count 990000, epsilon 0.208, loss 0.00084\n",
      "running reward: 0.50 at episode 8163, frame count 1000000, epsilon 0.200, loss 0.00316\n"
     ]
    }
   ],
   "source": [
    "# Experience replay buffers\n",
    "action_history = []\n",
    "state_history = []\n",
    "state_next_history = []\n",
    "rewards_history = []\n",
    "done_history = []\n",
    "\n",
    "episode_reward_history = []\n",
    "running_reward = 0\n",
    "episode_count = 0\n",
    "frame_count = 0\n",
    "\n",
    "MAX_EPISODES = 50000\n",
    "\n",
    "while True and episode_count < MAX_EPISODES:  # Run until solved\n",
    "    state = np.array(env.reset())\n",
    "    episode_reward = 0\n",
    "\n",
    "    for timestep in range(1, max_steps_per_episode):\n",
    "        \n",
    "        frame_count += 1\n",
    "\n",
    "        # Use epsilon-greedy for exploration\n",
    "        if frame_count < epsilon_random_frames or epsilon > np.random.rand(1)[0]:\n",
    "            # Take random action\n",
    "            action = np.random.choice(num_actions)\n",
    "        else:\n",
    "            # Predict action Q-values\n",
    "            # From environment state\n",
    "            state_tensor = tf.convert_to_tensor(state)\n",
    "            state_tensor = tf.expand_dims(state_tensor, 0)\n",
    "            action_probs = model(state_tensor, training=False)\n",
    "            # Take best action\n",
    "            action = tf.argmax(action_probs[0]).numpy()\n",
    "\n",
    "        # Decay probability of taking random action\n",
    "        if frame_count < epsilon_greedy_frames:\n",
    "          epsilon -= epsilon_interval_1 / epsilon_greedy_frames\n",
    "          epsilon = max(epsilon, epsilon_min_1)\n",
    "        \n",
    "        if frame_count > epsilon_greedy_frames and frame_count < 2 * epsilon_greedy_frames:\n",
    "          epsilon -= epsilon_interval_2 / epsilon_greedy_frames\n",
    "          epsilon = max(epsilon, epsilon_min_2)\n",
    "        \n",
    "        if frame_count > 2 * epsilon_greedy_frames:\n",
    "          epsilon -= epsilon_interval_3 / epsilon_greedy_frames\n",
    "          epsilon = max(epsilon, epsilon_min_3)\n",
    "          \n",
    "\n",
    "        # Apply the sampled action in our environment\n",
    "        state_next, reward, done, _ = env.step(action)\n",
    "        state_next = np.array(state_next)\n",
    "\n",
    "        episode_reward += reward\n",
    "\n",
    "        # Save actions and states in replay buffer\n",
    "        action_history.append(action)\n",
    "        state_history.append(state)\n",
    "        state_next_history.append(state_next)\n",
    "        done_history.append(done)\n",
    "        rewards_history.append(reward)\n",
    "        state = state_next\n",
    "\n",
    "        # Update every 20th frame and once batch size is over 32\n",
    "        if frame_count % update_after_actions == 0 and len(done_history) > batch_size:\n",
    "\n",
    "            # Get indices of samples for replay buffers\n",
    "            indices = np.random.choice(range(len(done_history)), size=batch_size)\n",
    "\n",
    "            # Using list comprehension to sample from replay buffer\n",
    "            state_sample = np.array([state_history[i] for i in indices])\n",
    "            state_next_sample = np.array([state_next_history[i] for i in indices])\n",
    "            rewards_sample = [rewards_history[i] for i in indices]\n",
    "            action_sample = [action_history[i] for i in indices]\n",
    "            done_sample = tf.convert_to_tensor(\n",
    "                [float(done_history[i]) for i in indices]\n",
    "            )\n",
    "\n",
    "            # Build the updated Q-values for the sampled future states\n",
    "            # Use the target model for stability\n",
    "            future_rewards = model_target.predict(state_next_sample)\n",
    "            # Q value = reward + discount factor * expected future reward\n",
    "            updated_q_values = rewards_sample + gamma * tf.reduce_max(\n",
    "                future_rewards, axis=1\n",
    "            )\n",
    "\n",
    "            # If final frame set the last value to -1\n",
    "            updated_q_values = updated_q_values * (1 - done_sample) - done_sample\n",
    "\n",
    "            # Create a mask so we only calculate loss on the updated Q-values\n",
    "            masks = tf.one_hot(action_sample, num_actions)\n",
    "\n",
    "            with tf.GradientTape() as tape:\n",
    "                # Train the model on the states and updated Q-values\n",
    "                q_values = model(state_sample)\n",
    "\n",
    "                # Apply the masks to the Q-values to get the Q-value for action taken\n",
    "                q_action = tf.reduce_sum(tf.multiply(q_values, masks), axis=1)\n",
    "                # Calculate loss between new Q-value and old Q-value\n",
    "                loss = loss_function(updated_q_values, q_action)\n",
    "\n",
    "            # Backpropagation\n",
    "            grads = tape.gradient(loss, model.trainable_variables)\n",
    "            optimizer.apply_gradients(zip(grads, model.trainable_variables))\n",
    "\n",
    "        if frame_count % update_target_network == 0:\n",
    "            # update the the target network with new weights\n",
    "            model_target.set_weights(model.get_weights())\n",
    "            # Log details\n",
    "            template = \"running reward: {:.2f} at episode {}, frame count {}, epsilon {:.3f}, loss {:.5f}\"\n",
    "            print(template.format(running_reward, episode_count, frame_count, epsilon, loss))\n",
    "\n",
    "        # Limit the state and reward history\n",
    "        if len(rewards_history) > max_memory_length:\n",
    "            del rewards_history[:1]\n",
    "            del state_history[:1]\n",
    "            del state_next_history[:1]\n",
    "            del action_history[:1]\n",
    "            del done_history[:1]\n",
    "\n",
    "        if done:\n",
    "            break\n",
    "\n",
    "    # Update running reward to check condition for solving\n",
    "    episode_reward_history.append(episode_reward)\n",
    "    if len(episode_reward_history) > 100:\n",
    "        del episode_reward_history[:1]\n",
    "    running_reward = np.mean(episode_reward_history)\n",
    "\n",
    "    episode_count += 1\n",
    "\n",
    "    if running_reward > 18:  # Condition to consider the task solved\n",
    "        print(\"Solved at episode {}!\".format(episode_count))\n",
    "        save_model(episode_count)\n",
    "        break\n",
    "        \n",
    "    # save model\n",
    "    if episode_count % 5000 == 0:\n",
    "        save_model(episode_count)\n",
    "    "
   ]
  }
 ],
 "metadata": {
  "kernelspec": {
   "display_name": "Python 3.9 (tensorflow)",
   "language": "python",
   "name": "tensorflow"
  },
  "language_info": {
   "codemirror_mode": {
    "name": "ipython",
    "version": 3
   },
   "file_extension": ".py",
   "mimetype": "text/x-python",
   "name": "python",
   "nbconvert_exporter": "python",
   "pygments_lexer": "ipython3",
   "version": "3.9.12"
  }
 },
 "nbformat": 4,
 "nbformat_minor": 5
}
